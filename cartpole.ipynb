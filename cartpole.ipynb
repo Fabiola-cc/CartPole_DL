{
 "cells": [
  {
   "cell_type": "markdown",
   "id": "1bb50b33",
   "metadata": {},
   "source": [
    "# Laboratorio 7 CartPole\n",
    "## Deep Learning\n",
    "\n",
    "- Fabiola Contreras, 22787\n",
    "- Diego Duarte, 22075\n",
    "- José Marchena, 22398\n",
    "- Sofía Velásquez, 22049\n",
    "- María José Villafuerte, 22129"
   ]
  },
  {
   "cell_type": "markdown",
   "id": "6d24211e",
   "metadata": {},
   "source": [
    "### Preparar ambiente"
   ]
  },
  {
   "cell_type": "code",
   "execution_count": 2,
   "id": "1d64b3ad",
   "metadata": {},
   "outputs": [
    {
     "name": "stderr",
     "output_type": "stream",
     "text": [
      "c:\\Users\\villa\\Desktop\\Clases_S8\\6.Deep Learning y Sistemas Inteligentes\\6.Lab7\\CartPole_DL\\gymnasium\\Lib\\site-packages\\pygame\\pkgdata.py:25: UserWarning: pkg_resources is deprecated as an API. See https://setuptools.pypa.io/en/latest/pkg_resources.html. The pkg_resources package is slated for removal as early as 2025-11-30. Refrain from using this package or pin to Setuptools<81.\n",
      "  from pkg_resources import resource_stream, resource_exists\n"
     ]
    }
   ],
   "source": [
    "import numpy as np\n",
    "import gymnasium as gym\n",
    "import torch\n",
    "import torch.nn as nn\n",
    "import pygame"
   ]
  },
  {
   "cell_type": "code",
   "execution_count": 3,
   "id": "b7a6085a",
   "metadata": {},
   "outputs": [
    {
     "data": {
      "text/plain": [
       "<TimeLimit<OrderEnforcing<PassiveEnvChecker<CartPoleEnv<CartPole-v1>>>>>"
      ]
     },
     "execution_count": 3,
     "metadata": {},
     "output_type": "execute_result"
    }
   ],
   "source": [
    "env = gym.make(\"CartPole-v1\", render_mode=\"rgb_array\")\n",
    "env"
   ]
  },
  {
   "cell_type": "markdown",
   "id": "fd3b1f49",
   "metadata": {},
   "source": [
    "### Definición de Redes"
   ]
  },
  {
   "cell_type": "code",
   "execution_count": 4,
   "id": "54198f27",
   "metadata": {},
   "outputs": [],
   "source": [
    "class QNetwork(nn.Module):\n",
    "    def __init__(self, obs_size, n_actions):\n",
    "        super().__init__()\n",
    "        self.net = nn.Sequential(\n",
    "            nn.Linear(obs_size, 128),\n",
    "            nn.ReLU(),\n",
    "            nn.Linear(128, 128),\n",
    "            nn.ReLU(),\n",
    "            nn.Linear(128, n_actions)\n",
    "        )\n",
    "        \n",
    "    def forward(self, x):\n",
    "        return self.net(x)"
   ]
  },
  {
   "cell_type": "code",
   "execution_count": 5,
   "id": "9cad439e",
   "metadata": {},
   "outputs": [
    {
     "data": {
      "text/plain": [
       "QNetwork(\n",
       "  (net): Sequential(\n",
       "    (0): Linear(in_features=4, out_features=128, bias=True)\n",
       "    (1): ReLU()\n",
       "    (2): Linear(in_features=128, out_features=128, bias=True)\n",
       "    (3): ReLU()\n",
       "    (4): Linear(in_features=128, out_features=2, bias=True)\n",
       "  )\n",
       ")"
      ]
     },
     "execution_count": 5,
     "metadata": {},
     "output_type": "execute_result"
    }
   ],
   "source": [
    "obs_size = env.observation_space.shape[0]   # 4 observaciones\n",
    "n_actions = env.action_space.n              # 2 acciones\n",
    "\n",
    "# Red en línea\n",
    "online_net = QNetwork(obs_size, n_actions)\n",
    "\n",
    "# Red de destino (clon inicial)\n",
    "target_net = QNetwork(obs_size, n_actions)\n",
    "target_net.load_state_dict(online_net.state_dict())  # mismos pesos al inicio\n",
    "target_net.eval()  # no necesita gradientes"
   ]
  },
  {
   "cell_type": "markdown",
   "id": "4326c22e",
   "metadata": {},
   "source": [
    "### Establecer hiperparámetros"
   ]
  },
  {
   "cell_type": "markdown",
   "id": "f858f4f0",
   "metadata": {},
   "source": [
    "#### Primer Modelo"
   ]
  },
  {
   "cell_type": "code",
   "execution_count": null,
   "id": "7ab00f73",
   "metadata": {},
   "outputs": [],
   "source": [
    "import random\n",
    "from collections import deque\n",
    "import torch.optim as optim\n",
    "\n",
    "# Dispositivo\n",
    "device = torch.device(\"cuda\" if torch.cuda.is_available() else \"cpu\")\n",
    "online_net.to(device)\n",
    "target_net.to(device)\n",
    "\n",
    "# Hiperparámetros principales\n",
    "GAMMA = 0.99                 # factor de descuento\n",
    "LR = 1e-3                    # tasa de aprendizaje\n",
    "BATCH_SIZE = 64              # tamaño de minibatch\n",
    "REPLAY_CAPACITY = 50_000     # capacidad del buffer\n",
    "TARGET_UPDATE_FREQ = 1000    # cada cuántos pasos copiar (hard update) a la red objetivo\n",
    "TRAIN_START_SIZE = 1000      # mínimo de transiciones antes de entrenar\n",
    "MAX_EPISODES = 500           # por si lo usas luego en el bucle de entrenamiento\n",
    "MAX_STEPS_PER_EP = 500\n",
    "\n",
    "# Exploración ε-greedy\n",
    "EPS_START = 1.0\n",
    "EPS_END = 0.05\n",
    "EPS_DECAY_STEPS = 50_000     # pasos para decaer desde 1.0 -> 0.05 (lineal)\n",
    "\n",
    "\n",
    "# Optimizador y pérdida\n",
    "optimizer = optim.Adam(online_net.parameters(), lr=LR)\n",
    "criterion = nn.MSELoss()\n",
    "\n",
    "# Programador lineal de epsilon (por pasos globales)\n",
    "global_step = 0\n",
    "def get_epsilon(step: int) -> float:\n",
    "    # decaimiento lineal\n",
    "    frac = min(1.0, step / EPS_DECAY_STEPS)\n",
    "    return EPS_START + (EPS_END - EPS_START) * frac"
   ]
  },
  {
   "cell_type": "markdown",
   "id": "15f27a69",
   "metadata": {},
   "source": [
    "#### Segundo Modelo\n"
   ]
  },
  {
   "cell_type": "code",
   "execution_count": 6,
   "id": "662a85d5",
   "metadata": {},
   "outputs": [],
   "source": [
    "import random\n",
    "from collections import deque\n",
    "import torch.optim as optim\n",
    "\n",
    "# Dispositivo\n",
    "device = torch.device(\"cuda\" if torch.cuda.is_available() else \"cpu\")\n",
    "online_net.to(device)\n",
    "target_net.to(device)\n",
    "\n",
    "# Hiperparámetros principales\n",
    "GAMMA = 0.99                 # factor de descuento\n",
    "LR = 5e-4                   # tasa de aprendizaje\n",
    "BATCH_SIZE = 64              # tamaño de minibatch\n",
    "REPLAY_CAPACITY = 50_000     # capacidad del buffer\n",
    "TARGET_UPDATE_FREQ = 1000    # cada cuántos pasos copiar (hard update) a la red objetivo\n",
    "TRAIN_START_SIZE = 1000      # mínimo de transiciones antes de entrenar\n",
    "MAX_EPISODES = 1000           # por si lo usas luego en el bucle de entrenamiento\n",
    "MAX_STEPS_PER_EP = 500\n",
    "\n",
    "# Exploración ε-greedy\n",
    "EPS_START = 1.0\n",
    "EPS_END = 0.01\n",
    "EPS_DECAY_STEPS = 15_000     # pasos para decaer desde 1.0 -> 0.05 (lineal)\n",
    "\n",
    "# Optimizador y pérdida\n",
    "optimizer = optim.Adam(online_net.parameters(), lr=LR)\n",
    "criterion = nn.MSELoss()\n",
    "\n",
    "# Programador lineal de epsilon (por pasos globales)\n",
    "global_step = 0\n",
    "def get_epsilon(step: int) -> float:\n",
    "    # decaimiento lineal\n",
    "    frac = min(1.0, step / EPS_DECAY_STEPS)\n",
    "    return EPS_START + (EPS_END - EPS_START) * frac"
   ]
  },
  {
   "cell_type": "markdown",
   "id": "5a7e2ec5",
   "metadata": {},
   "source": [
    "### Selección de acciones épsilon-greedy"
   ]
  },
  {
   "cell_type": "code",
   "execution_count": 7,
   "id": "d9c82e55",
   "metadata": {},
   "outputs": [],
   "source": [
    "def select_action(state_np, epsilon: float):\n",
    "    \"\"\"\n",
    "    state_np: np.ndarray con forma (obs_size,)\n",
    "    epsilon : valor actual de exploración\n",
    "    Retorna: acción (int)\n",
    "    \"\"\"\n",
    "    if random.random() < epsilon:\n",
    "        # Explora\n",
    "        return env.action_space.sample()\n",
    "    else:\n",
    "        # Explotación con la red online\n",
    "        state_t = torch.as_tensor(state_np, dtype=torch.float32, device=device).unsqueeze(0)  # [1, obs_size]\n",
    "        with torch.no_grad():\n",
    "            q_values = online_net(state_t)  # [1, n_actions]\n",
    "            action = int(torch.argmax(q_values, dim=1).item())\n",
    "        return action\n"
   ]
  },
  {
   "cell_type": "markdown",
   "id": "5adf6a15",
   "metadata": {},
   "source": [
    "### Experience replay"
   ]
  },
  {
   "cell_type": "code",
   "execution_count": 8,
   "id": "5886310f",
   "metadata": {},
   "outputs": [],
   "source": [
    "# Replay Buffer + paso de optimización (DQL con red objetivo) muy de girly pop\n",
    "class ReplayBuffer:\n",
    "    def __init__(self, capacity: int):\n",
    "        self.buf = deque(maxlen=capacity)\n",
    "    def push(self, s, a, r, s_next, done):\n",
    "        # Guardamos como tuplas\n",
    "        self.buf.append((s, a, r, s_next, done))\n",
    "    def __len__(self):\n",
    "        return len(self.buf)\n",
    "    def sample(self, batch_size: int):\n",
    "        batch = random.sample(self.buf, batch_size)\n",
    "        s, a, r, s_next, d = zip(*batch)\n",
    "\n",
    "        s      = torch.as_tensor(np.vstack(s), dtype=torch.float32, device=device)      # [B, obs]\n",
    "        a      = torch.as_tensor(a, dtype=torch.int64, device=device).unsqueeze(1)      # [B, 1]\n",
    "        r      = torch.as_tensor(r, dtype=torch.float32, device=device).unsqueeze(1)    # [B, 1]\n",
    "        s_next = torch.as_tensor(np.vstack(s_next), dtype=torch.float32, device=device) # [B, obs]\n",
    "        d      = torch.as_tensor(d, dtype=torch.float32, device=device).unsqueeze(1)    # [B, 1]\n",
    "\n",
    "        return s, a, r, s_next, d\n",
    "\n",
    "\n",
    "replay = ReplayBuffer(REPLAY_CAPACITY)\n",
    "\n",
    "def hard_update_target():\n",
    "    \"\"\"Copia dura de pesos desde online_net hacia target_net.\"\"\"\n",
    "    target_net.load_state_dict(online_net.state_dict())\n",
    "\n",
    "def optimize_model():\n",
    "    \"\"\"Un paso de optimización DQL usando muestras del replay + red objetivo.\"\"\"\n",
    "    if len(replay) < max(BATCH_SIZE, TRAIN_START_SIZE):\n",
    "        return None  # aún no hay suficientes muestras\n",
    "\n",
    "    # Muestra minibatch\n",
    "    states, actions, rewards, next_states, dones = replay.sample(BATCH_SIZE)\n",
    "\n",
    "    # Q_online(s, a): tomamos sólo el Q de la acción ejecutada\n",
    "    q_pred_all = online_net(states)                       # [B, n_actions]\n",
    "    q_pred = q_pred_all.gather(1, actions)                # [B, 1]\n",
    "\n",
    "    # Objetivo con red objetivo: y = r + gamma * (1 - done) * max_a' Q_target(s', a')\n",
    "    with torch.no_grad():\n",
    "        q_next_all = target_net(next_states)              # [B, n_actions]\n",
    "        q_next_max = q_next_all.max(dim=1, keepdim=True).values  # [B, 1]\n",
    "        q_target = rewards + (1.0 - dones) * GAMMA * q_next_max  # [B, 1]\n",
    "\n",
    "    # Pérdida MSE\n",
    "    loss = criterion(q_pred, q_target)\n",
    "\n",
    "    # Backprop\n",
    "    optimizer.zero_grad()\n",
    "    loss.backward()\n",
    "    # por si nos sirve, este es un clipping de gradiente para estabilidad, si no lo podemos borrar, x no importa\n",
    "    torch.nn.utils.clip_grad_norm_(online_net.parameters(), max_norm=10.0)\n",
    "    optimizer.step()\n",
    "\n",
    "    return loss.item()\n"
   ]
  },
  {
   "cell_type": "markdown",
   "id": "68f3dfe5",
   "metadata": {},
   "source": [
    "### Training Cycle y Visualizar Entorno"
   ]
  },
  {
   "cell_type": "code",
   "execution_count": 9,
   "id": "d08d48bf",
   "metadata": {},
   "outputs": [
    {
     "name": "stdout",
     "output_type": "stream",
     "text": [
      "Ep 10/1000 | Recompensa media ult.10: 20.50 | ε=0.986\n",
      "Ep 20/1000 | Recompensa media ult.10: 23.10 | ε=0.971\n",
      "Ep 30/1000 | Recompensa media ult.10: 26.20 | ε=0.954\n",
      "Ep 40/1000 | Recompensa media ult.10: 18.00 | ε=0.942\n",
      "Ep 50/1000 | Recompensa media ult.10: 16.90 | ε=0.931\n",
      "Ep 60/1000 | Recompensa media ult.10: 27.20 | ε=0.913\n",
      "Ep 70/1000 | Recompensa media ult.10: 20.40 | ε=0.899\n",
      "Ep 80/1000 | Recompensa media ult.10: 17.70 | ε=0.888\n",
      "Ep 90/1000 | Recompensa media ult.10: 19.60 | ε=0.875\n",
      "Ep 100/1000 | Recompensa media ult.10: 18.40 | ε=0.863\n",
      "Ep 110/1000 | Recompensa media ult.10: 17.30 | ε=0.851\n",
      "Ep 120/1000 | Recompensa media ult.10: 14.90 | ε=0.841\n",
      "Ep 130/1000 | Recompensa media ult.10: 19.40 | ε=0.829\n",
      "Ep 140/1000 | Recompensa media ult.10: 19.10 | ε=0.816\n",
      "Ep 150/1000 | Recompensa media ult.10: 18.00 | ε=0.804\n",
      "Ep 160/1000 | Recompensa media ult.10: 16.70 | ε=0.793\n",
      "Ep 170/1000 | Recompensa media ult.10: 25.40 | ε=0.776\n",
      "Ep 180/1000 | Recompensa media ult.10: 21.10 | ε=0.762\n",
      "Ep 190/1000 | Recompensa media ult.10: 25.60 | ε=0.746\n",
      "Ep 200/1000 | Recompensa media ult.10: 23.00 | ε=0.730\n",
      "Ep 210/1000 | Recompensa media ult.10: 36.40 | ε=0.706\n",
      "Ep 220/1000 | Recompensa media ult.10: 24.00 | ε=0.691\n",
      "Ep 230/1000 | Recompensa media ult.10: 27.30 | ε=0.673\n",
      "Ep 240/1000 | Recompensa media ult.10: 29.50 | ε=0.653\n",
      "Ep 250/1000 | Recompensa media ult.10: 18.70 | ε=0.641\n",
      "Ep 260/1000 | Recompensa media ult.10: 17.50 | ε=0.629\n",
      "Ep 270/1000 | Recompensa media ult.10: 22.60 | ε=0.614\n",
      "Ep 280/1000 | Recompensa media ult.10: 24.30 | ε=0.598\n",
      "Ep 290/1000 | Recompensa media ult.10: 30.50 | ε=0.578\n",
      "Ep 300/1000 | Recompensa media ult.10: 33.30 | ε=0.556\n",
      "Ep 310/1000 | Recompensa media ult.10: 43.60 | ε=0.527\n",
      "Ep 320/1000 | Recompensa media ult.10: 54.50 | ε=0.491\n",
      "Ep 330/1000 | Recompensa media ult.10: 55.40 | ε=0.455\n",
      "Ep 340/1000 | Recompensa media ult.10: 68.20 | ε=0.410\n",
      "Ep 350/1000 | Recompensa media ult.10: 110.10 | ε=0.337\n",
      "Ep 360/1000 | Recompensa media ult.10: 136.50 | ε=0.247\n",
      "Ep 370/1000 | Recompensa media ult.10: 149.60 | ε=0.148\n",
      "Ep 380/1000 | Recompensa media ult.10: 140.00 | ε=0.056\n",
      "Ep 390/1000 | Recompensa media ult.10: 127.80 | ε=0.010\n",
      "Ep 400/1000 | Recompensa media ult.10: 114.60 | ε=0.010\n",
      "Ep 410/1000 | Recompensa media ult.10: 120.50 | ε=0.010\n",
      "Ep 420/1000 | Recompensa media ult.10: 129.20 | ε=0.010\n",
      "Ep 430/1000 | Recompensa media ult.10: 127.00 | ε=0.010\n",
      "Ep 440/1000 | Recompensa media ult.10: 129.70 | ε=0.010\n",
      "Ep 450/1000 | Recompensa media ult.10: 146.70 | ε=0.010\n",
      "Ep 460/1000 | Recompensa media ult.10: 189.40 | ε=0.010\n",
      "Ep 470/1000 | Recompensa media ult.10: 155.60 | ε=0.010\n",
      "Ep 480/1000 | Recompensa media ult.10: 156.40 | ε=0.010\n",
      "Ep 490/1000 | Recompensa media ult.10: 205.50 | ε=0.010\n",
      "Ep 500/1000 | Recompensa media ult.10: 211.20 | ε=0.010\n",
      "Ep 510/1000 | Recompensa media ult.10: 194.50 | ε=0.010\n",
      "Ep 520/1000 | Recompensa media ult.10: 187.90 | ε=0.010\n",
      "Ep 530/1000 | Recompensa media ult.10: 126.00 | ε=0.010\n",
      "Ep 540/1000 | Recompensa media ult.10: 118.10 | ε=0.010\n",
      "Ep 550/1000 | Recompensa media ult.10: 113.40 | ε=0.010\n",
      "Ep 560/1000 | Recompensa media ult.10: 173.00 | ε=0.010\n",
      "Ep 570/1000 | Recompensa media ult.10: 156.40 | ε=0.010\n",
      "Ep 580/1000 | Recompensa media ult.10: 135.30 | ε=0.010\n",
      "Ep 590/1000 | Recompensa media ult.10: 133.30 | ε=0.010\n",
      "Ep 600/1000 | Recompensa media ult.10: 133.70 | ε=0.010\n",
      "Ep 610/1000 | Recompensa media ult.10: 128.90 | ε=0.010\n",
      "Ep 620/1000 | Recompensa media ult.10: 170.60 | ε=0.010\n",
      "Ep 630/1000 | Recompensa media ult.10: 156.10 | ε=0.010\n",
      "Ep 640/1000 | Recompensa media ult.10: 176.10 | ε=0.010\n",
      "Ep 650/1000 | Recompensa media ult.10: 192.00 | ε=0.010\n",
      "Ep 660/1000 | Recompensa media ult.10: 223.00 | ε=0.010\n",
      "Ep 670/1000 | Recompensa media ult.10: 226.50 | ε=0.010\n",
      "Ep 680/1000 | Recompensa media ult.10: 148.90 | ε=0.010\n",
      "Ep 690/1000 | Recompensa media ult.10: 148.20 | ε=0.010\n",
      "Ep 700/1000 | Recompensa media ult.10: 166.70 | ε=0.010\n",
      "Ep 710/1000 | Recompensa media ult.10: 154.40 | ε=0.010\n",
      "Ep 720/1000 | Recompensa media ult.10: 129.10 | ε=0.010\n",
      "Ep 730/1000 | Recompensa media ult.10: 137.60 | ε=0.010\n",
      "Ep 740/1000 | Recompensa media ult.10: 125.90 | ε=0.010\n",
      "Ep 750/1000 | Recompensa media ult.10: 124.90 | ε=0.010\n",
      "Ep 760/1000 | Recompensa media ult.10: 117.00 | ε=0.010\n",
      "Ep 770/1000 | Recompensa media ult.10: 111.60 | ε=0.010\n",
      "Ep 780/1000 | Recompensa media ult.10: 125.80 | ε=0.010\n",
      "Ep 790/1000 | Recompensa media ult.10: 123.90 | ε=0.010\n",
      "Ep 800/1000 | Recompensa media ult.10: 155.30 | ε=0.010\n",
      "Ep 810/1000 | Recompensa media ult.10: 133.70 | ε=0.010\n",
      "Ep 820/1000 | Recompensa media ult.10: 131.00 | ε=0.010\n",
      "Ep 830/1000 | Recompensa media ult.10: 143.40 | ε=0.010\n",
      "Ep 840/1000 | Recompensa media ult.10: 116.10 | ε=0.010\n",
      "Ep 850/1000 | Recompensa media ult.10: 109.80 | ε=0.010\n",
      "Ep 860/1000 | Recompensa media ult.10: 127.10 | ε=0.010\n",
      "Ep 870/1000 | Recompensa media ult.10: 145.70 | ε=0.010\n",
      "Ep 880/1000 | Recompensa media ult.10: 133.80 | ε=0.010\n",
      "Ep 890/1000 | Recompensa media ult.10: 173.30 | ε=0.010\n",
      "Ep 900/1000 | Recompensa media ult.10: 258.20 | ε=0.010\n",
      "Ep 910/1000 | Recompensa media ult.10: 500.00 | ε=0.010\n",
      "Ep 920/1000 | Recompensa media ult.10: 500.00 | ε=0.010\n",
      "Ep 930/1000 | Recompensa media ult.10: 438.20 | ε=0.010\n",
      "Ep 940/1000 | Recompensa media ult.10: 482.80 | ε=0.010\n",
      "Ep 950/1000 | Recompensa media ult.10: 450.30 | ε=0.010\n",
      "Ep 960/1000 | Recompensa media ult.10: 454.90 | ε=0.010\n",
      "Ep 970/1000 | Recompensa media ult.10: 490.50 | ε=0.010\n",
      "Ep 980/1000 | Recompensa media ult.10: 478.90 | ε=0.010\n",
      "Ep 990/1000 | Recompensa media ult.10: 388.30 | ε=0.010\n",
      "Ep 1000/1000 | Recompensa media ult.10: 420.40 | ε=0.010\n"
     ]
    }
   ],
   "source": [
    "# Crear entorno con renderizado en pantalla\n",
    "env = gym.make(\"CartPole-v1\", render_mode=\"human\")  \n",
    "\n",
    "reward_history = []\n",
    "loss_history = []\n",
    "\n",
    "for episode in range(MAX_EPISODES):\n",
    "    state, _ = env.reset()\n",
    "    total_reward = 0\n",
    "\n",
    "    for t in range(MAX_STEPS_PER_EP):\n",
    "        global_step += 1\n",
    "        epsilon = get_epsilon(global_step)\n",
    "\n",
    "        # Renderizar cada 50 episodios\n",
    "        if episode % 50 == 0:\n",
    "            env.render()\n",
    "\n",
    "        # Selección de acción (ε-greedy)\n",
    "        action = select_action(state, epsilon)\n",
    "\n",
    "        # Ejecutar acción en el entorno\n",
    "        next_state, reward, terminated, truncated, _ = env.step(action)\n",
    "        done = terminated or truncated\n",
    "        total_reward += reward\n",
    "\n",
    "        # Guardar transición en el buffer con dtype correcto\n",
    "        replay.push(\n",
    "            np.array(state, dtype=np.float32), \n",
    "            action, \n",
    "            reward, \n",
    "            np.array(next_state, dtype=np.float32), \n",
    "            done\n",
    "        )\n",
    "\n",
    "        # Optimizar modelo con un batch de replay\n",
    "        loss = optimize_model()\n",
    "        if loss is not None:\n",
    "            loss_history.append(loss)\n",
    "\n",
    "        # Actualizar red objetivo cada cierto número de pasos\n",
    "        if global_step % TARGET_UPDATE_FREQ == 0:\n",
    "            hard_update_target()\n",
    "\n",
    "        state = next_state\n",
    "\n",
    "        if done:\n",
    "            break\n",
    "\n",
    "    reward_history.append(total_reward)\n",
    "\n",
    "    # Log de progreso cada 10 episodios\n",
    "    if (episode + 1) % 10 == 0:\n",
    "        avg_r = np.mean(reward_history[-10:])\n",
    "        print(f\"Ep {episode+1}/{MAX_EPISODES} | Recompensa media ult.10: {avg_r:.2f} | ε={epsilon:.3f}\")\n",
    "\n",
    "# Cerrar entorno al final\n",
    "env.close()\n"
   ]
  },
  {
   "cell_type": "markdown",
   "id": "3078fbc3",
   "metadata": {},
   "source": [
    "### Gráfica de monitoreo del entrenamiento\n"
   ]
  },
  {
   "cell_type": "code",
   "execution_count": 10,
   "id": "30f9f979",
   "metadata": {},
   "outputs": [
    {
     "data": {
      "image/png": "[encoded data removed]",
      "text/plain": [
       "<Figure size 1200x500 with 2 Axes>"
      ]
     },
     "metadata": {},
     "output_type": "display_data"
    }
   ],
   "source": [
    "import matplotlib.pyplot as plt\n",
    "\n",
    "# Graficar recompensas\n",
    "plt.figure(figsize=(12, 5))\n",
    "\n",
    "plt.subplot(1, 2, 1)\n",
    "plt.plot(reward_history)\n",
    "plt.xlabel('Episodio')\n",
    "plt.ylabel('Recompensa Total')\n",
    "plt.title('Recompensa por Episodio')\n",
    "plt.grid(True)\n",
    "\n",
    "# Media móvil para suavizar la curva\n",
    "window = 10\n",
    "if len(reward_history) >= window:\n",
    "    moving_avg = np.convolve(reward_history, np.ones(window)/window, mode='valid')\n",
    "    plt.plot(range(window-1, len(reward_history)), moving_avg, 'r-', linewidth=2, label=f'Media móvil ({window} eps)')\n",
    "    plt.legend()\n",
    "\n",
    "plt.subplot(1, 2, 2)\n",
    "plt.plot(loss_history)\n",
    "plt.xlabel('Paso de optimización')\n",
    "plt.ylabel('Pérdida')\n",
    "plt.title('Pérdida durante el entrenamiento')\n",
    "plt.grid(True)\n",
    "\n",
    "plt.tight_layout()\n",
    "plt.show()"
   ]
  },
  {
   "cell_type": "markdown",
   "id": "9d67db86",
   "metadata": {},
   "source": [
    "### Evaluación del agente entrenado\n"
   ]
  },
  {
   "cell_type": "code",
   "execution_count": 12,
   "id": "6fd230eb",
   "metadata": {},
   "outputs": [
    {
     "name": "stdout",
     "output_type": "stream",
     "text": [
      "\n",
      "==================================================\n",
      "Evaluacion del agente entrenado\n",
      "==================================================\n",
      "Episodio de evaluación 1/10: Recompensa = 16.0\n",
      "Episodio de evaluación 2/10: Recompensa = 12.0\n",
      "Episodio de evaluación 3/10: Recompensa = 15.0\n",
      "Episodio de evaluación 4/10: Recompensa = 16.0\n",
      "Episodio de evaluación 5/10: Recompensa = 15.0\n",
      "Episodio de evaluación 6/10: Recompensa = 17.0\n",
      "Episodio de evaluación 7/10: Recompensa = 13.0\n",
      "Episodio de evaluación 8/10: Recompensa = 13.0\n",
      "Episodio de evaluación 9/10: Recompensa = 16.0\n",
      "Episodio de evaluación 10/10: Recompensa = 17.0\n",
      "\n",
      "Recompensa promedio: 15.00 ± 1.67\n",
      "Recompensa máxima: 17.0\n",
      "Recompensa mínima: 12.0\n"
     ]
    }
   ],
   "source": [
    "# Evaluación del agente entrenado\n",
    "def evaluate_agent(env, net, n_episodes=10, max_steps=500):\n",
    "    \"\"\"\n",
    "    Evalúa el agente entrenado sin exploración\n",
    "    \"\"\"\n",
    "    eval_rewards = []\n",
    "    \n",
    "    for ep in range(n_episodes):\n",
    "        state, _ = env.reset()\n",
    "        total_reward = 0\n",
    "        \n",
    "        for step in range(max_steps):\n",
    "            # Sin exploración (epsilon = 0)\n",
    "            state_t = torch.as_tensor(state, dtype=torch.float32, device=device).unsqueeze(0)\n",
    "            with torch.no_grad():\n",
    "                q_values = net(state_t)\n",
    "                action = int(torch.argmax(q_values, dim=1).item())\n",
    "            \n",
    "            next_state, reward, terminated, truncated, _ = env.step(action)\n",
    "            done = terminated or truncated\n",
    "            total_reward += reward\n",
    "            state = next_state\n",
    "            \n",
    "            if done:\n",
    "                break\n",
    "        \n",
    "        eval_rewards.append(total_reward)\n",
    "        print(f\"Episodio de evaluación {ep+1}/{n_episodes}: Recompensa = {total_reward}\")\n",
    "    \n",
    "    return eval_rewards\n",
    "\n",
    "# Crear entorno de evaluación (sin render)\n",
    "eval_env = gym.make(\"CartPole-v1\")\n",
    "\n",
    "print(\"\\n\" + \"=\"*50)\n",
    "print(\"Evaluacion del agente entrenado\")\n",
    "print(\"=\"*50)\n",
    "\n",
    "eval_rewards = evaluate_agent(eval_env, online_net, n_episodes=10)\n",
    "\n",
    "print(f\"\\nRecompensa promedio: {np.mean(eval_rewards):.2f} ± {np.std(eval_rewards):.2f}\")\n",
    "print(f\"Recompensa máxima: {np.max(eval_rewards)}\")\n",
    "print(f\"Recompensa mínima: {np.min(eval_rewards)}\")\n",
    "\n",
    "eval_env.close()"
   ]
  }
 ],
 "metadata": {
  "kernelspec": {
   "display_name": "gymnasium",
   "language": "python",
   "name": "python3"
  },
  "language_info": {
   "codemirror_mode": {
    "name": "ipython",
    "version": 3
   },
   "file_extension": ".py",
   "mimetype": "text/x-python",
   "name": "python",
   "nbconvert_exporter": "python",
   "pygments_lexer": "ipython3",
   "version": "3.12.5"
  }
 },
 "nbformat": 4,
 "nbformat_minor": 5
}
