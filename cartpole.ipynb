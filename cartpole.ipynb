{
 "cells": [
  {
   "cell_type": "markdown",
   "id": "1bb50b33",
   "metadata": {},
   "source": [
    "# Laboratorio 7 CartPole\n",
    "## Deep Learning\n",
    "\n",
    "- Fabiola Contreras, 22787\n",
    "- Diego Duarte, 22075\n",
    "- José Marchena, 22398\n",
    "- Sofía Velásquez, 22049\n",
    "- María José Villafuerte, 22129"
   ]
  },
  {
   "cell_type": "markdown",
   "id": "6d24211e",
   "metadata": {},
   "source": [
    "### Preparar ambiente"
   ]
  },
  {
   "cell_type": "code",
   "execution_count": 4,
   "id": "1d64b3ad",
   "metadata": {},
   "outputs": [],
   "source": [
    "import numpy as np\n",
    "import gymnasium as gym\n",
    "import torch\n",
    "import torch.nn as nn"
   ]
  },
  {
   "cell_type": "code",
   "execution_count": 2,
   "id": "b7a6085a",
   "metadata": {},
   "outputs": [
    {
     "data": {
      "text/plain": [
       "<TimeLimit<OrderEnforcing<PassiveEnvChecker<CartPoleEnv<CartPole-v1>>>>>"
      ]
     },
     "execution_count": 2,
     "metadata": {},
     "output_type": "execute_result"
    }
   ],
   "source": [
    "env = gym.make(\"CartPole-v1\", render_mode=\"rgb_array\")\n",
    "env"
   ]
  },
  {
   "cell_type": "markdown",
   "id": "fd3b1f49",
   "metadata": {},
   "source": [
    "### Definición de Redes"
   ]
  },
  {
   "cell_type": "code",
   "execution_count": 5,
   "id": "54198f27",
   "metadata": {},
   "outputs": [],
   "source": [
    "class QNetwork(nn.Module):\n",
    "    def __init__(self, obs_size, n_actions):\n",
    "        super().__init__()\n",
    "        self.net = nn.Sequential(\n",
    "            nn.Linear(obs_size, 128),\n",
    "            nn.ReLU(),\n",
    "            nn.Linear(128, 128),\n",
    "            nn.ReLU(),\n",
    "            nn.Linear(128, n_actions)\n",
    "        )\n",
    "        \n",
    "    def forward(self, x):\n",
    "        return self.net(x)"
   ]
  },
  {
   "cell_type": "code",
   "execution_count": 6,
   "id": "9cad439e",
   "metadata": {},
   "outputs": [
    {
     "data": {
      "text/plain": [
       "QNetwork(\n",
       "  (net): Sequential(\n",
       "    (0): Linear(in_features=4, out_features=128, bias=True)\n",
       "    (1): ReLU()\n",
       "    (2): Linear(in_features=128, out_features=128, bias=True)\n",
       "    (3): ReLU()\n",
       "    (4): Linear(in_features=128, out_features=2, bias=True)\n",
       "  )\n",
       ")"
      ]
     },
     "execution_count": 6,
     "metadata": {},
     "output_type": "execute_result"
    }
   ],
   "source": [
    "obs_size = env.observation_space.shape[0]   # 4 observaciones\n",
    "n_actions = env.action_space.n              # 2 acciones\n",
    "\n",
    "# Red en línea\n",
    "online_net = QNetwork(obs_size, n_actions)\n",
    "\n",
    "# Red de destino (clon inicial)\n",
    "target_net = QNetwork(obs_size, n_actions)\n",
    "target_net.load_state_dict(online_net.state_dict())  # mismos pesos al inicio\n",
    "target_net.eval()  # no necesita gradientes"
   ]
  }
 ],
 "metadata": {
  "kernelspec": {
   "display_name": ".venv",
   "language": "python",
   "name": "python3"
  },
  "language_info": {
   "codemirror_mode": {
    "name": "ipython",
    "version": 3
   },
   "file_extension": ".py",
   "mimetype": "text/x-python",
   "name": "python",
   "nbconvert_exporter": "python",
   "pygments_lexer": "ipython3",
   "version": "3.12.5"
  }
 },
 "nbformat": 4,
 "nbformat_minor": 5
}
